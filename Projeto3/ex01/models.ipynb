{
 "cells": [
  {
   "cell_type": "code",
   "execution_count": 5,
   "metadata": {},
   "outputs": [
    {
     "name": "stdout",
     "output_type": "stream",
     "text": [
      "<class 'dict_items'>\n",
      "dict_items([('Qwen2 1.5B', 'dfdfdsafdsfs'), ('Qwen2 1.5dfdasB', 'dfdfdsafdsfs')])\n"
     ]
    }
   ],
   "source": [
    "a = {\"Qwen2 1.5B\": \"dfdfdsafdsfs\", \"Qwen2 1.5dfdasB\": \"dfdfdsafdsfs\"}\n",
    "\n",
    "b = a.items()\n",
    "\n",
    "print(type(b))\n",
    "print(b)\n"
   ]
  },
  {
   "cell_type": "code",
   "execution_count": null,
   "metadata": {},
   "outputs": [],
   "source": []
  }
 ],
 "metadata": {
  "kernelspec": {
   "display_name": "Python 3",
   "language": "python",
   "name": "python3"
  },
  "language_info": {
   "codemirror_mode": {
    "name": "ipython",
    "version": 3
   },
   "file_extension": ".py",
   "mimetype": "text/x-python",
   "name": "python",
   "nbconvert_exporter": "python",
   "pygments_lexer": "ipython3",
   "version": "3.8.10"
  }
 },
 "nbformat": 4,
 "nbformat_minor": 2
}
