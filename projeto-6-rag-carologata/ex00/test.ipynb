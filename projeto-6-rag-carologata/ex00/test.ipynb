{
 "cells": [
  {
   "cell_type": "code",
   "execution_count": 35,
   "metadata": {},
   "outputs": [
    {
     "name": "stdout",
     "output_type": "stream",
     "text": [
      "Gustavo Lima\n",
      "São Paulo, SP | (11) 9XXXX-XXXX | gus\n",
      "Gustavo Alves\n",
      "São Paulo, SP | (11) 9XXXX-XXXX | gu\n",
      "-------\n",
      "curriculo_28.pdf\n",
      "curriculo_27.pdf\n"
     ]
    }
   ],
   "source": [
    "results = {'ids': [['curriculo_28.pdf', 'curriculo_27.pdf']], 'distances': None, 'metadatas': [[{'source': 'curriculo_28.pdf'}, {'source': 'curriculo_27.pdf'}]], 'embeddings': None, 'documents': [['Gustavo Lima\\nSão Paulo, SP | (11) 9XXXX-XXXX | gustavo.lima@42sp.org.br\\nResumo Profissional\\nAnalista  de  Dados  sênior  com  mais  de  7  anos  de  experiência  em  análise  de  dados,\\nmodelagem preditiva e desenvolvimento de soluções de BI, impulsionando a tomada de\\ndecisão  e  a  otimização  de  processos  em  empresas  de  diversos  setores.  Sólido\\nconhecimento  em  linguagens  de  programação  como  Python  e  R,  ferramentas  de\\nvisualização de dados como Tableau e Power BI, e bancos de dados relacionais e NoSQL.\\nExperiência  em  projetos  complexos  envolvendo  análise  de  dados  de  grande  volume,\\nconstrução de dashboards e relatórios gerenciais, e implementação de modelos de machine\\nlearning para previsão de demanda, detecção de fraudes e segmentação de clientes.\\nExperiência Profissional\\nDataMind  - Analista de Dados Sênior\\nJaneiro 2021 - Presente\\nLiderou o desenvolvimento de um sistema de análise de dados de clientes que\\naumentou a eficiência de campanhas de marketing em 30%, impulsionando um aumento\\nde 15% na receita.\\nImplementou um modelo de machine learning para previsão de demanda que reduziu os\\ncustos de estoque em 10% e aumentou a taxa de atendimento de pedidos em 5%.\\nDesenvolveu dashboards interativos no Tableau para monitorar indicadores chave de\\ndesempenho (KPIs) e fornecer insights acionáveis para a tomada de decisão estratégica.• \\n• \\n• Página 1 de 4Inteligência Analítica  - Analista de Dados\\nJaneiro 2018 - Dezembro 2020\\nRealizou análise exploratória de dados de vendas para identificar padrões e tendências,\\nfornecendo insights para o desenvolvimento de estratégias de otimização de preços e\\ncampanhas promocionais.\\nDesenvolveu um modelo de previsão de churn de clientes utilizando algoritmos de\\nmachine learning em Python, o que permitiu a implementação de ações proativas de\\nretenção de clientes e redução da taxa de churn em 12%.\\nConstruiu relatórios e dashboards no Power BI para monitorar o desempenho de\\ndiferentes canais de vendas e fornecer insights para a equipe de marketing.\\nEducação\\nBacharelado em Ciência da Computação - Universidade Federal de São\\nPaulo\\n2015\\nProjeto de conclusão de curso: \"Análise de dados de redes sociais para identificação de\\ninfluenciadores digitais\", utilizando técnicas de processamento de linguagem natural\\n(NLP) e machine learning.\\nDisciplinas relevantes: Algoritmos e Estruturas de Dados, Banco de Dados, Mineração\\nde Dados, Inteligência Artificial, Machine Learning.\\nHabilidades Técnicas\\nLinguagens de programação: Python, R, SQL\\nFrameworks e bibliotecas: Pandas, NumPy, Scikit-learn, TensorFlow, PyTorch\\nFerramentas de visualização de dados: Tableau, Power BI\\nBancos de dados: MySQL, PostgreSQL, MongoDB\\nCloud computing: AWS, Azure• \\n• \\n• \\n• \\n• \\n• \\n• \\n• \\n• \\n• Página 2 de 4Estatística e probabilidade\\nModelagem preditiva e machine learning\\nAnálise de dados exploratória (EDA)\\nVisualização de dados\\nProjetos Relevantes\\nMarketInsight  - Plataforma de análise de dados de marketing\\nDesenvolveu uma plataforma de análise de dados de marketing em Python, utilizando\\nframeworks como Flask e SQLAlchemy, para coletar, limpar, processar e analisar dados\\nde diversas fontes, como plataformas de mídia social, sites de e-commerce e sistemas\\nde CRM.\\nImplementou dashboards interativos no Tableau para visualizar dados de marketing e\\nfornecer insights para a equipe de marketing sobre o desempenho de campanhas, o\\ncomportamento dos clientes e as tendências do mercado.\\nSmartManufacturing  - Análise de dados de sensores IoT\\nAnalisou dados de sensores IoT para monitorar e otimizar o desempenho de\\nequipamentos em uma fábrica, utilizando Python e bibliotecas como Pandas e NumPy\\npara processar dados de grande volume e identificar padrões e anomalias.\\nDesenvolveu um sistema de alerta automático para notificar a equipe de manutenção\\nsobre possíveis falhas nos equipamentos, o que resultou em uma redução de 15% no\\ntempo de inatividade da produção.\\nCertificações e Formação Complementar\\nCertified Data Scientist  - Data Science Council of America, 2019\\nMachine Learning with Python  - Coursera, 2020\\nPython for Data Science  - IBM, 2021• \\n• \\n• \\n• \\n• \\n• \\n• \\n• \\n• \\n• \\n• Página 3 de 4Idiomas\\nPortuguês - Nativo\\nInglês - Fluente• \\n• Página 4 de 4', 'Gustavo Alves\\nSão Paulo, SP | (11) 9XXXX-XXXX | gustavo.alves@42sp.org.br\\nResumo Profissional\\nEngenheiro  de  Machine  Learning  com  5  anos  de  experiência  em  desenvolvimento  e\\nimplementação de soluções de aprendizado de máquina, com foco em análise preditiva,\\notimização de processos e visão computacional. Experiência comprovada em todo o ciclo\\nde  vida  de  projetos  de  ML,  desde  a  coleta  e  pré-processamento  de  dados  até  a\\nimplementação  e  monitoramento  de  modelos  em  produção.  Especialista  em  Python,\\nTensorFlow, PyTorch e Scikit-learn, com forte conhecimento em técnicas de aprendizado\\nsupervisionado e não supervisionado. Demonstrou capacidade de desenvolver e implantar\\nmodelos  de  ML  que  geraram  impacto  significativo  em  empresas  de  diversos  setores,\\nincluindo aumento de receita, otimização de custos e melhoria da experiência do cliente.\\nExperiência Profissional\\nDeepMind - Engenheiro de Machine Learning\\nJaneiro 2021 - Presente\\nLiderou o desenvolvimento de um sistema de detecção de fraudes que reduziu as perdas\\nem 30% em apenas seis meses, utilizando algoritmos de classificação e análise de\\nanomalias.\\nProjetou e implementou um modelo de previsão de demanda para um dos principais\\nprodutos da empresa, com uma precisão de 95%, otimizando a gestão de estoque e\\nminimizando perdas por obsolescência.\\nColaborou com equipes de desenvolvimento e negócios para integrar modelos de ML em\\nsistemas de produção, utilizando Docker e Kubernetes para garantir escalabilidade e alta\\ndisponibilidade.• \\n• \\n• Página 1 de 3Analytics Inc. - Cientista de Dados\\nJulho 2018 - Dezembro 2020\\nDesenvolveu modelos de segmentação de clientes para campanhas de marketing\\ndirecionadas, aumentando a taxa de conversão em 15% e gerando um retorno sobre\\ninvestimento (ROI) de 200%.\\nAplicou técnicas de processamento de linguagem natural (NLP) para analisar dados de\\nfeedback do cliente, identificando tendências e insights que levaram a melhorias\\nsignificativas no atendimento e na experiência do usuário.\\nRealizou experimentos e validação de modelos utilizando metodologias de A/B testing,\\notimizando o desempenho dos modelos e garantindo resultados mensuráveis.\\nEducação\\nBacharelado em Ciência da Computação - Universidade de São Paulo\\n2016\\nProjeto de graduação: Sistema de Reconhecimento Facial utilizando Redes Neurais\\nConvolucionais, com precisão superior a 90%.\\nDisciplinas relevantes: Inteligência Artificial, Aprendizado de Máquina, Processamento de\\nSinais, Algoritmos e Estruturas de Dados.\\nHabilidades Técnicas\\nLinguagens de programação: Python, SQL, R\\nFrameworks de Machine Learning: TensorFlow, PyTorch, Scikit-learn\\nFerramentas de análise de dados: Pandas, NumPy, Matplotlib, Seaborn\\nNuvem: AWS, Azure, Google Cloud\\nDevOps: Docker, Kubernetes, Git• \\n• \\n• \\n• \\n• \\n• \\n• \\n• \\n• \\n• Página 2 de 3Algoritmos de Machine Learning: Regressão linear, Regressão logística, Árvores de\\ndecisão, Random Forest, K-Means, Redes Neurais, Redes Neurais Convolucionais,\\nRedes Neurais Recorrentes\\nProjetos Relevantes\\nSistema de Recomendação de Filmes Personalizado\\nDesenvolvido utilizando algoritmos de filtragem colaborativa e conteúdo, com base em\\ndados de histórico de visualização e preferências do usuário.\\nO sistema atingiu uma precisão de 80% na previsão de filmes que os usuários\\nprovavelmente gostariam, aumentando o tempo de visualização em 15%.\\nClassificador de Sentimentos para Análise de Opinião Pública\\nUtilizado técnicas de NLP e Deep Learning para analisar dados de texto e classificar a\\nopinião pública sobre temas específicos.\\nO modelo alcançou uma precisão de 90% na classificação de sentimentos, fornecendo\\ninsights valiosos para tomadores de decisão.\\nCertificações e Formação Complementar\\nCertificação AWS Certified Machine Learning - Specialty - Amazon Web Services, 2021\\nDeep Learning Specialization - Coursera, 2020\\nTensorFlow Developer Certificate - Google, 2019\\nIdiomas\\nPortuguês - Nativo\\nInglês - Fluente• \\n• \\n• \\n• \\n• \\n• \\n• \\n• \\n• \\n• Página 3 de 3']], 'uris': None, 'data': None, 'included': ['documents', 'metadatas']}\n",
    "\n",
    "\n",
    "print(results['documents'][0][0][:50])\n",
    "\n",
    "print(results['documents'][0][1][:50])\n",
    "\n",
    "print('-------')\n",
    "\n",
    "print(results['metadatas'][0][0]['source'])\n",
    "\n",
    "print(results['metadatas'][0][1]['source'])\n",
    "\n"
   ]
  }
 ],
 "metadata": {
  "kernelspec": {
   "display_name": ".venv",
   "language": "python",
   "name": "python3"
  },
  "language_info": {
   "codemirror_mode": {
    "name": "ipython",
    "version": 3
   },
   "file_extension": ".py",
   "mimetype": "text/x-python",
   "name": "python",
   "nbconvert_exporter": "python",
   "pygments_lexer": "ipython3",
   "version": "3.10.14"
  }
 },
 "nbformat": 4,
 "nbformat_minor": 2
}
